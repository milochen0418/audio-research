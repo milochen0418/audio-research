{
 "cells": [
  {
   "cell_type": "code",
   "execution_count": 1,
   "metadata": {},
   "outputs": [],
   "source": []
  },
  {
   "cell_type": "code",
   "execution_count": 1,
   "metadata": {},
   "outputs": [
    {
     "name": "stdout",
     "output_type": "stream",
     "text": [
      "stream started\n",
      "Closed Figure!\n",
      "stream stopped and close\n",
      "pyaudio terminate()\n",
      "stream stopped and close\n",
      "pyaudio terminate()\n"
     ]
    }
   ],
   "source": [
    "# Audio Waveform Viewer which support windows close process\n",
    "\n",
    "import pyaudio\n",
    "import struct\n",
    "import numpy as np \n",
    "%matplotlib qt\n",
    "import matplotlib.pyplot as plt\n",
    "import time\n",
    "CHUNK = 1024 * 4\n",
    "CHANNELS = 1\n",
    "FORMAT = pyaudio.paInt16\n",
    "RATE = 44100 # Sample per second. 44 kHz is most common value\n",
    "\n",
    "\n",
    "\n",
    "p = pyaudio.PyAudio()\n",
    "\n",
    "stream = p.open(\n",
    "    format=FORMAT,\n",
    "    channels=CHANNELS,\n",
    "    rate=RATE,\n",
    "    input=True,\n",
    "    output=True,\n",
    "    frames_per_buffer=CHUNK\n",
    ")\n",
    "def audio_close_procedure():\n",
    "    stream.stop_stream()\n",
    "    stream.close()\n",
    "    print('stream stopped and close') \n",
    "    p.terminate()        \n",
    "    print('pyaudio terminate()')                 \n",
    "\n",
    "    \n",
    "def plt_handle_close(evt):\n",
    "    print('Closed Figure!')\n",
    "    audio_close_procedure()\n",
    "\n",
    "    \n",
    "    \n",
    "fig, ax = plt.subplots() \n",
    "x = np.arange(0, 2 *CHUNK, 2)\n",
    "line, = ax.plot(x, np.random.rand(CHUNK))\n",
    "ax.set_title('AUDIO WAVEFORM')\n",
    "ax.set_xlabel('samples')\n",
    "ax.set_ylabel('volume')\n",
    "ax.set_ylim(0, 255)\n",
    "ax.set_xlim(0, CHUNK)\n",
    "plt.setp(ax, xticks=[0, CHUNK, 2 * CHUNK], yticks=[0, 128, 255])\n",
    "fig.canvas.mpl_connect('close_event', plt_handle_close)\n",
    "print('stream started')\n",
    "\n",
    "while True:    \n",
    "    try:\n",
    "        data = stream.read(CHUNK, exception_on_overflow = False)\n",
    "        data_int = np.array( struct.unpack(str(2*CHUNK) +'B',data), dtype='b')[::2] + 128 \n",
    "        line.set_ydata(data_int)\n",
    "        fig.canvas.draw()\n",
    "        fig.canvas.flush_events()\n",
    "    except: \n",
    "        audio_close_procedure()\n",
    "        break\n",
    "\n"
   ]
  },
  {
   "cell_type": "code",
   "execution_count": null,
   "metadata": {},
   "outputs": [],
   "source": []
  },
  {
   "cell_type": "code",
   "execution_count": 1,
   "metadata": {},
   "outputs": [
    {
     "name": "stdout",
     "output_type": "stream",
     "text": [
      "stream started\n",
      "Closed Figure!\n",
      "average frame rate = 8 FPS\n",
      "stream stopped and close\n",
      "pyaudio terminate()\n",
      "average frame rate = 8 FPS\n",
      "stream stopped and close\n",
      "pyaudio terminate()\n"
     ]
    }
   ],
   "source": [
    "\n",
    "# Audio Spectrum Analyzer \n",
    "\n",
    "import pyaudio\n",
    "import struct\n",
    "import numpy as np \n",
    "%matplotlib qt\n",
    "import matplotlib.pyplot as plt\n",
    "import time\n",
    "\n",
    "from scipy.fftpack import fft\n",
    "\n",
    "CHUNK = 1024 * 2\n",
    "CHANNELS = 1\n",
    "FORMAT = pyaudio.paInt16\n",
    "RATE = 44100 # Sample per second. 44 kHz is most common value\n",
    "\n",
    "\n",
    "\n",
    "p = pyaudio.PyAudio()\n",
    "\n",
    "stream = p.open(\n",
    "    format=FORMAT,\n",
    "    channels=CHANNELS,\n",
    "    rate=RATE,\n",
    "    input=True,\n",
    "    output=True,\n",
    "    frames_per_buffer=CHUNK\n",
    ")\n",
    "frame_count = 0\n",
    "start_time = time.time()\n",
    "def audio_close_procedure():\n",
    "    frame_rate = frame_count / (time.time() - start_time)\n",
    "    print('average frame rate = {:.0f} FPS'.format(frame_rate))\n",
    "    \n",
    "    stream.stop_stream()\n",
    "    stream.close()\n",
    "    print('stream stopped and close') \n",
    "    p.terminate()        \n",
    "    print('pyaudio terminate()')                 \n",
    "\n",
    "    \n",
    "def plt_handle_close(evt):\n",
    "    print('Closed Figure!')\n",
    "    audio_close_procedure()\n",
    "\n",
    "    \n",
    "    \n",
    "#fig, ax = plt.subplots() \n",
    "fig, (ax, ax2 ) = plt.subplots(2, figsize=(15,8))\n",
    "\n",
    "# Variable for plotting\n",
    "x = np.arange(0, 2 *CHUNK, 2)\n",
    "x_fft = np.linspace(0, RATE, CHUNK)\n",
    "\n",
    "#line, = ax.plot(x, np.random.rand(CHUNK))\n",
    "line, = ax.plot(x, np.random.rand(CHUNK),'-', lw=2)\n",
    "line.set_linewidth(0.5)\n",
    "#line_fft, = ax2.plot(x_fft, np.random.rand(CHUNK), '-', lw=2)\n",
    "line_fft, = ax2.semilogx(x_fft, np.random.rand(CHUNK), '-', lw=2)\n",
    "line_fft.set_linewidth(1)\n",
    "\n",
    "ax.set_title('AUDIO WAVEFORM')\n",
    "ax.set_xlabel('samples')\n",
    "ax.set_ylabel('volume')\n",
    "ax.set_ylim(0, 255)\n",
    "#ax.set_xlim(0, CHUNK)\n",
    "ax.set_xlim(0, 2*CHUNK)\n",
    "ax2.set_xlim(20, RATE / 2)\n",
    "\n",
    "plt.setp(ax, xticks=[0, CHUNK, 2 * CHUNK], yticks=[0, 128, 255])\n",
    "\n",
    "\n",
    "\n",
    "fig.canvas.mpl_connect('close_event', plt_handle_close)\n",
    "print('stream started')\n",
    "\n",
    "while True:    \n",
    "    try:\n",
    "        data = stream.read(CHUNK, exception_on_overflow = False)\n",
    "        \n",
    "        #data_int = np.array( struct.unpack(str(2*CHUNK) +'B',data), dtype='b')[::2] + 128 \n",
    "        #line.set_ydata(data_int)\n",
    "        data_int = struct.unpack(str(2*CHUNK) +'B',data)\n",
    "        data_np = np.array( data_int, dtype='b')[::2] + 128 \n",
    "        line.set_ydata(data_np)\n",
    "        \n",
    "        \n",
    "        y_fft = fft(data_int)\n",
    "        line_fft.set_ydata(np.abs(y_fft[0:CHUNK])*2 / (256*CHUNK) )\n",
    "        \n",
    "        fig.canvas.draw()\n",
    "        fig.canvas.flush_events()\n",
    "        \n",
    "        frame_count = frame_count + 1 \n",
    "        \n",
    "    except: \n",
    "        audio_close_procedure()\n",
    "        break\n",
    "\n",
    "\n",
    "\n"
   ]
  },
  {
   "cell_type": "code",
   "execution_count": 3,
   "metadata": {},
   "outputs": [
    {
     "data": {
      "text/plain": [
       "array([0.31625928+0.j        , 0.31625882+0.00088698j,\n",
       "       0.31625744+0.00177397j, ..., 0.31625514-0.00266097j,\n",
       "       0.31625744-0.00177397j, 0.31625882-0.00088698j])"
      ]
     },
     "execution_count": 3,
     "metadata": {},
     "output_type": "execute_result"
    }
   ],
   "source": [
    "fft(np.sin(2*x))"
   ]
  },
  {
   "cell_type": "code",
   "execution_count": 6,
   "metadata": {},
   "outputs": [
    {
     "data": {
      "text/plain": [
       "[<matplotlib.lines.Line2D at 0x32b0a8240>]"
      ]
     },
     "execution_count": 6,
     "metadata": {},
     "output_type": "execute_result"
    }
   ],
   "source": [
    "plt.plot(np.abs(fft(np.sin(2*x))))"
   ]
  },
  {
   "cell_type": "code",
   "execution_count": null,
   "metadata": {},
   "outputs": [],
   "source": []
  }
 ],
 "metadata": {
  "kernelspec": {
   "display_name": "Python 3",
   "language": "python",
   "name": "python3"
  },
  "language_info": {
   "codemirror_mode": {
    "name": "ipython",
    "version": 3
   },
   "file_extension": ".py",
   "mimetype": "text/x-python",
   "name": "python",
   "nbconvert_exporter": "python",
   "pygments_lexer": "ipython3",
   "version": "3.6.9"
  }
 },
 "nbformat": 4,
 "nbformat_minor": 2
}
