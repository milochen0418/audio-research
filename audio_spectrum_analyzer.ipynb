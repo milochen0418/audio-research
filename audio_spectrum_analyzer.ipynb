{
 "cells": [
  {
   "cell_type": "code",
   "execution_count": 1,
   "metadata": {},
   "outputs": [],
   "source": [
    "import pyaudio\n",
    "import struct\n",
    "import numpy as np \n",
    "%matplotlib qt\n",
    "import matplotlib.pyplot as plt\n",
    "import time\n",
    "\n",
    "\n",
    "\n",
    "CHUNK = 1024 * 4\n",
    "CHANNELS = 1\n",
    "\n",
    "#How much audio be processed at a time . \n",
    "#How many audio samples per frame we're gonna display \n",
    "# so we have 4096 samples per chunk \n",
    "FORMAT = pyaudio.paInt16\n",
    "\n",
    "RATE = 44100 # Sample per second. 44 kHz is most common value\n"
   ]
  },
  {
   "cell_type": "code",
   "execution_count": 2,
   "metadata": {},
   "outputs": [
    {
     "name": "stdout",
     "output_type": "stream",
     "text": [
      "stream started\n",
      "Closed Figure!\n",
      "stream stopped and close\n",
      "pyaudio terminate()\n",
      "stream stopped and close\n",
      "pyaudio terminate()\n"
     ]
    }
   ],
   "source": [
    "# Audio Waveform Viewer which support windows close process\n",
    "p = pyaudio.PyAudio()\n",
    "\n",
    "stream = p.open(\n",
    "    format=FORMAT,\n",
    "    channels=CHANNELS,\n",
    "    rate=RATE,\n",
    "    input=True,\n",
    "    output=True,\n",
    "    frames_per_buffer=CHUNK\n",
    ")\n",
    "def audio_close_procedure():\n",
    "    stream.stop_stream()\n",
    "    stream.close()\n",
    "    print('stream stopped and close') \n",
    "    p.terminate()        \n",
    "    print('pyaudio terminate()')                 \n",
    "\n",
    "    \n",
    "def plt_handle_close(evt):\n",
    "    print('Closed Figure!')\n",
    "    audio_close_procedure()\n",
    "\n",
    "    \n",
    "    \n",
    "fig, ax = plt.subplots() \n",
    "x = np.arange(0, 2 *CHUNK, 2)\n",
    "line, = ax.plot(x, np.random.rand(CHUNK))\n",
    "ax.set_title('AUDIO WAVEFORM')\n",
    "ax.set_xlabel('samples')\n",
    "ax.set_ylabel('volume')\n",
    "ax.set_ylim(0, 255)\n",
    "ax.set_xlim(0, CHUNK)\n",
    "plt.setp(ax, xticks=[0, CHUNK, 2 * CHUNK], yticks=[0, 128, 255])\n",
    "fig.canvas.mpl_connect('close_event', plt_handle_close)\n",
    "print('stream started')\n",
    "\n",
    "while True:    \n",
    "    try:\n",
    "        data = stream.read(CHUNK, exception_on_overflow = False)\n",
    "        data_int = np.array( struct.unpack(str(2*CHUNK) +'B',data), dtype='b')[::2] + 128 \n",
    "        line.set_ydata(data_int)\n",
    "        fig.canvas.draw()\n",
    "        fig.canvas.flush_events()\n",
    "    except: \n",
    "        audio_close_procedure()\n",
    "        break\n",
    "\n"
   ]
  },
  {
   "cell_type": "code",
   "execution_count": null,
   "metadata": {},
   "outputs": [],
   "source": []
  },
  {
   "cell_type": "code",
   "execution_count": 4,
   "metadata": {},
   "outputs": [],
   "source": [
    "\n"
   ]
  },
  {
   "cell_type": "code",
   "execution_count": null,
   "metadata": {},
   "outputs": [],
   "source": []
  }
 ],
 "metadata": {
  "kernelspec": {
   "display_name": "Python 3",
   "language": "python",
   "name": "python3"
  },
  "language_info": {
   "codemirror_mode": {
    "name": "ipython",
    "version": 3
   },
   "file_extension": ".py",
   "mimetype": "text/x-python",
   "name": "python",
   "nbconvert_exporter": "python",
   "pygments_lexer": "ipython3",
   "version": "3.6.9"
  }
 },
 "nbformat": 4,
 "nbformat_minor": 2
}
